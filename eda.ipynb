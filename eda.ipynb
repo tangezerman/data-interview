{
 "cells": [
  {
   "cell_type": "markdown",
   "metadata": {},
   "source": [
    "### Users Table\n",
    "- `id`: Unique identifier for each user (numeric)\n",
    "- `created_at`: User creation timestamp (ISO date string)\n",
    "- `attribution_source`: User acquisition source (tiktok, instagram, or organic)\n",
    "- `country`: User's country (US, TR, or NL)\n",
    "- `name`: User's name\n",
    "\n",
    "### User Events Table\n",
    "- `id`: Unique event identifier (numeric)\n",
    "- `created_at`: Event timestamp (ISO date string)\n",
    "- `user_id`: Reference to users table (numeric)\n",
    "- `event_name`: Type of event (app_install, trial_started, trial_cancelled, subscription_started, subscription_renewed, subscription_cancelled)\n",
    "- `amount_usd`: Transaction amount in USD (numeric)"
   ]
  },
  {
   "cell_type": "code",
   "execution_count": 1,
   "metadata": {},
   "outputs": [],
   "source": [
    "import pandas as pd\n",
    "import numpy as np\n",
    "import sqlite3\n",
    "import matplotlib.pyplot as plt\n",
    "import seaborn as sns\n",
    "from datetime import datetime"
   ]
  },
  {
   "cell_type": "code",
   "execution_count": 5,
   "metadata": {},
   "outputs": [],
   "source": [
    "try:\n",
    "    conn = sqlite3.connect('papcorns.sqlite')\n",
    "except Exception as e:\n",
    "    print(e)"
   ]
  },
  {
   "cell_type": "code",
   "execution_count": 7,
   "metadata": {},
   "outputs": [
    {
     "name": "stdout",
     "output_type": "stream",
     "text": [
      "Users table preview:\n"
     ]
    },
    {
     "data": {
      "text/html": [
       "<div>\n",
       "<style scoped>\n",
       "    .dataframe tbody tr th:only-of-type {\n",
       "        vertical-align: middle;\n",
       "    }\n",
       "\n",
       "    .dataframe tbody tr th {\n",
       "        vertical-align: top;\n",
       "    }\n",
       "\n",
       "    .dataframe thead th {\n",
       "        text-align: right;\n",
       "    }\n",
       "</style>\n",
       "<table border=\"1\" class=\"dataframe\">\n",
       "  <thead>\n",
       "    <tr style=\"text-align: right;\">\n",
       "      <th></th>\n",
       "      <th>id</th>\n",
       "      <th>created_at</th>\n",
       "      <th>attribution_source</th>\n",
       "      <th>country</th>\n",
       "      <th>name</th>\n",
       "    </tr>\n",
       "  </thead>\n",
       "  <tbody>\n",
       "    <tr>\n",
       "      <th>0</th>\n",
       "      <td>1</td>\n",
       "      <td>2024-05-07T00:00:00</td>\n",
       "      <td>instagram</td>\n",
       "      <td>US</td>\n",
       "      <td>Eve Brown</td>\n",
       "    </tr>\n",
       "    <tr>\n",
       "      <th>1</th>\n",
       "      <td>2</td>\n",
       "      <td>2024-10-12T00:00:00</td>\n",
       "      <td>instagram</td>\n",
       "      <td>NL</td>\n",
       "      <td>Frank Moore</td>\n",
       "    </tr>\n",
       "    <tr>\n",
       "      <th>2</th>\n",
       "      <td>3</td>\n",
       "      <td>2024-10-15T00:00:00</td>\n",
       "      <td>tiktok</td>\n",
       "      <td>TR</td>\n",
       "      <td>Ivy Anderson</td>\n",
       "    </tr>\n",
       "    <tr>\n",
       "      <th>3</th>\n",
       "      <td>4</td>\n",
       "      <td>2024-08-28T00:00:00</td>\n",
       "      <td>tiktok</td>\n",
       "      <td>TR</td>\n",
       "      <td>Alice Brown</td>\n",
       "    </tr>\n",
       "    <tr>\n",
       "      <th>4</th>\n",
       "      <td>5</td>\n",
       "      <td>2024-04-03T00:00:00</td>\n",
       "      <td>organic</td>\n",
       "      <td>NL</td>\n",
       "      <td>Bob Moore</td>\n",
       "    </tr>\n",
       "  </tbody>\n",
       "</table>\n",
       "</div>"
      ],
      "text/plain": [
       "   id           created_at attribution_source country          name\n",
       "0   1  2024-05-07T00:00:00          instagram      US     Eve Brown\n",
       "1   2  2024-10-12T00:00:00          instagram      NL   Frank Moore\n",
       "2   3  2024-10-15T00:00:00             tiktok      TR  Ivy Anderson\n",
       "3   4  2024-08-28T00:00:00             tiktok      TR   Alice Brown\n",
       "4   5  2024-04-03T00:00:00            organic      NL     Bob Moore"
      ]
     },
     "metadata": {},
     "output_type": "display_data"
    },
    {
     "name": "stdout",
     "output_type": "stream",
     "text": [
      "\n",
      "User events table preview:\n"
     ]
    },
    {
     "data": {
      "text/html": [
       "<div>\n",
       "<style scoped>\n",
       "    .dataframe tbody tr th:only-of-type {\n",
       "        vertical-align: middle;\n",
       "    }\n",
       "\n",
       "    .dataframe tbody tr th {\n",
       "        vertical-align: top;\n",
       "    }\n",
       "\n",
       "    .dataframe thead th {\n",
       "        text-align: right;\n",
       "    }\n",
       "</style>\n",
       "<table border=\"1\" class=\"dataframe\">\n",
       "  <thead>\n",
       "    <tr style=\"text-align: right;\">\n",
       "      <th></th>\n",
       "      <th>id</th>\n",
       "      <th>created_at</th>\n",
       "      <th>user_id</th>\n",
       "      <th>event_name</th>\n",
       "      <th>amount_usd</th>\n",
       "    </tr>\n",
       "  </thead>\n",
       "  <tbody>\n",
       "    <tr>\n",
       "      <th>0</th>\n",
       "      <td>1</td>\n",
       "      <td>2024-05-07T00:00:00</td>\n",
       "      <td>1</td>\n",
       "      <td>app_install</td>\n",
       "      <td>None</td>\n",
       "    </tr>\n",
       "    <tr>\n",
       "      <th>1</th>\n",
       "      <td>2</td>\n",
       "      <td>2024-05-12T00:00:00</td>\n",
       "      <td>1</td>\n",
       "      <td>trial_started</td>\n",
       "      <td>None</td>\n",
       "    </tr>\n",
       "    <tr>\n",
       "      <th>2</th>\n",
       "      <td>3</td>\n",
       "      <td>2024-05-24T00:00:00</td>\n",
       "      <td>1</td>\n",
       "      <td>trial_cancelled</td>\n",
       "      <td>None</td>\n",
       "    </tr>\n",
       "    <tr>\n",
       "      <th>3</th>\n",
       "      <td>4</td>\n",
       "      <td>2024-10-12T00:00:00</td>\n",
       "      <td>2</td>\n",
       "      <td>app_install</td>\n",
       "      <td>None</td>\n",
       "    </tr>\n",
       "    <tr>\n",
       "      <th>4</th>\n",
       "      <td>5</td>\n",
       "      <td>2024-10-13T00:00:00</td>\n",
       "      <td>2</td>\n",
       "      <td>trial_started</td>\n",
       "      <td>None</td>\n",
       "    </tr>\n",
       "  </tbody>\n",
       "</table>\n",
       "</div>"
      ],
      "text/plain": [
       "   id           created_at  user_id       event_name amount_usd\n",
       "0   1  2024-05-07T00:00:00        1      app_install       None\n",
       "1   2  2024-05-12T00:00:00        1    trial_started       None\n",
       "2   3  2024-05-24T00:00:00        1  trial_cancelled       None\n",
       "3   4  2024-10-12T00:00:00        2      app_install       None\n",
       "4   5  2024-10-13T00:00:00        2    trial_started       None"
      ]
     },
     "metadata": {},
     "output_type": "display_data"
    }
   ],
   "source": [
    "users_df = pd.read_sql_query(\"SELECT * FROM users LIMIT 5;\", conn)\n",
    "print(\"Users table preview:\")\n",
    "display(users_df)\n",
    "\n",
    "# Load events table\n",
    "events_df = pd.read_sql_query(\"SELECT * FROM user_events LIMIT 5;\", conn)\n",
    "print(\"\\nUser events table preview:\")\n",
    "display(events_df)"
   ]
  },
  {
   "cell_type": "code",
   "execution_count": 25,
   "metadata": {},
   "outputs": [],
   "source": [
    "users_df = pd.read_sql_query(\"SELECT * FROM users\", conn)"
   ]
  },
  {
   "cell_type": "code",
   "execution_count": 26,
   "metadata": {},
   "outputs": [],
   "source": [
    "events_df = pd.read_sql_query(\"SELECT * From user_events \", conn)"
   ]
  },
  {
   "cell_type": "code",
   "execution_count": 29,
   "metadata": {},
   "outputs": [
    {
     "data": {
      "text/plain": [
       "<bound method NDFrame.describe of         id           created_at attribution_source country           name\n",
       "0        1  2024-05-07T00:00:00          instagram      US      Eve Brown\n",
       "1        2  2024-10-12T00:00:00          instagram      NL    Frank Moore\n",
       "2        3  2024-10-15T00:00:00             tiktok      TR   Ivy Anderson\n",
       "3        4  2024-08-28T00:00:00             tiktok      TR    Alice Brown\n",
       "4        5  2024-04-03T00:00:00            organic      NL      Bob Moore\n",
       "...    ...                  ...                ...     ...            ...\n",
       "997    998  2025-02-01T00:00:00          instagram      TR      Bob Davis\n",
       "998    999  2024-12-24T00:00:00            organic      NL  Charlie Davis\n",
       "999   1000  2025-02-13T00:00:00            organic      NL  Jack Anderson\n",
       "1000  1001  2025-02-16T00:00:00          instagram      US    Bruce Wayne\n",
       "1001  1002  2025-02-16T00:00:00            organic      TR     Clark Kent\n",
       "\n",
       "[1002 rows x 5 columns]>"
      ]
     },
     "execution_count": 29,
     "metadata": {},
     "output_type": "execute_result"
    }
   ],
   "source": [
    "users_df.describe"
   ]
  },
  {
   "cell_type": "code",
   "execution_count": 30,
   "metadata": {},
   "outputs": [
    {
     "data": {
      "text/plain": [
       "<bound method NDFrame.describe of         id           created_at  user_id            event_name  amount_usd\n",
       "0        1  2024-05-07T00:00:00        1           app_install         NaN\n",
       "1        2  2024-05-12T00:00:00        1         trial_started         NaN\n",
       "2        3  2024-05-24T00:00:00        1       trial_cancelled         NaN\n",
       "3        4  2024-10-12T00:00:00        2           app_install         NaN\n",
       "4        5  2024-10-13T00:00:00        2         trial_started         NaN\n",
       "...    ...                  ...      ...                   ...         ...\n",
       "3481  3482  2025-02-25T00:00:00     1000       trial_cancelled         NaN\n",
       "3482  3483  2025-02-25T00:00:00     1001           app_install         NaN\n",
       "3483  3484  2025-02-25T00:00:00     1001         trial_started         NaN\n",
       "3484  3485  2025-02-25T00:00:00     1001  subscription_started        9.99\n",
       "3485  3486  2025-02-25T00:00:00     1002           app_install         NaN\n",
       "\n",
       "[3486 rows x 5 columns]>"
      ]
     },
     "execution_count": 30,
     "metadata": {},
     "output_type": "execute_result"
    }
   ],
   "source": [
    "events_df.describe"
   ]
  },
  {
   "cell_type": "markdown",
   "metadata": {},
   "source": [
    "Let's start with checking missing values"
   ]
  },
  {
   "cell_type": "code",
   "execution_count": 31,
   "metadata": {},
   "outputs": [
    {
     "data": {
      "text/plain": [
       "id                    False\n",
       "created_at            False\n",
       "attribution_source    False\n",
       "country               False\n",
       "name                  False\n",
       "dtype: bool"
      ]
     },
     "execution_count": 31,
     "metadata": {},
     "output_type": "execute_result"
    }
   ],
   "source": [
    "users_df.isna().any()"
   ]
  },
  {
   "cell_type": "code",
   "execution_count": 32,
   "metadata": {},
   "outputs": [
    {
     "data": {
      "text/plain": [
       "id            False\n",
       "created_at    False\n",
       "user_id       False\n",
       "event_name    False\n",
       "amount_usd     True\n",
       "dtype: bool"
      ]
     },
     "execution_count": 32,
     "metadata": {},
     "output_type": "execute_result"
    }
   ],
   "source": [
    "events_df.isna().any()"
   ]
  },
  {
   "cell_type": "markdown",
   "metadata": {},
   "source": [
    "There are missing values "
   ]
  },
  {
   "cell_type": "code",
   "execution_count": 33,
   "metadata": {},
   "outputs": [
    {
     "data": {
      "text/plain": [
       "id               0\n",
       "created_at       0\n",
       "user_id          0\n",
       "event_name       0\n",
       "amount_usd    2255\n",
       "dtype: int64"
      ]
     },
     "execution_count": 33,
     "metadata": {},
     "output_type": "execute_result"
    }
   ],
   "source": [
    "events_df.isna().sum()"
   ]
  },
  {
   "cell_type": "markdown",
   "metadata": {},
   "source": [
    "It turns out, 2255 rows of the 3486 are missing in the `amount_usd` column"
   ]
  },
  {
   "cell_type": "code",
   "execution_count": null,
   "metadata": {},
   "outputs": [],
   "source": []
  }
 ],
 "metadata": {
  "kernelspec": {
   "display_name": ".venv",
   "language": "python",
   "name": "python3"
  },
  "language_info": {
   "codemirror_mode": {
    "name": "ipython",
    "version": 3
   },
   "file_extension": ".py",
   "mimetype": "text/x-python",
   "name": "python",
   "nbconvert_exporter": "python",
   "pygments_lexer": "ipython3",
   "version": "3.12.8"
  }
 },
 "nbformat": 4,
 "nbformat_minor": 2
}
