{
 "cells": [
  {
   "cell_type": "markdown",
   "metadata": {},
   "source": [
    "## EDA\n",
    "### Users Table\n",
    "- `id`: Unique identifier for each user (numeric)\n",
    "- `created_at`: User creation timestamp (ISO date string)\n",
    "- `attribution_source`: User acquisition source (tiktok, instagram, or organic)\n",
    "- `country`: User's country (US, TR, or NL)\n",
    "- `name`: User's name\n",
    "\n",
    "### User Events Table\n",
    "- `id`: Unique event identifier (numeric)\n",
    "- `created_at`: Event timestamp (ISO date string)\n",
    "- `user_id`: Reference to users table (numeric)\n",
    "- `event_name`: Type of event (app_install, trial_started, trial_cancelled, subscription_started, subscription_renewed, subscription_cancelled)\n",
    "- `amount_usd`: Transaction amount in USD (numeric)"
   ]
  },
  {
   "cell_type": "code",
   "execution_count": 1,
   "metadata": {},
   "outputs": [],
   "source": [
    "import pandas as pd\n",
    "import numpy as np\n",
    "import sqlite3\n",
    "import matplotlib.pyplot as plt\n",
    "import seaborn as sns\n",
    "from datetime import datetime"
   ]
  },
  {
   "cell_type": "code",
   "execution_count": 2,
   "metadata": {},
   "outputs": [],
   "source": [
    "try:\n",
    "    conn = sqlite3.connect('papcorns copy.sqlite')\n",
    "except Exception as e:\n",
    "    print(e)"
   ]
  },
  {
   "cell_type": "code",
   "execution_count": 3,
   "metadata": {},
   "outputs": [
    {
     "name": "stdout",
     "output_type": "stream",
     "text": [
      "Users table preview:\n"
     ]
    },
    {
     "data": {
      "text/html": [
       "<div>\n",
       "<style scoped>\n",
       "    .dataframe tbody tr th:only-of-type {\n",
       "        vertical-align: middle;\n",
       "    }\n",
       "\n",
       "    .dataframe tbody tr th {\n",
       "        vertical-align: top;\n",
       "    }\n",
       "\n",
       "    .dataframe thead th {\n",
       "        text-align: right;\n",
       "    }\n",
       "</style>\n",
       "<table border=\"1\" class=\"dataframe\">\n",
       "  <thead>\n",
       "    <tr style=\"text-align: right;\">\n",
       "      <th></th>\n",
       "      <th>id</th>\n",
       "      <th>created_at</th>\n",
       "      <th>attribution_source</th>\n",
       "      <th>country</th>\n",
       "      <th>name</th>\n",
       "    </tr>\n",
       "  </thead>\n",
       "  <tbody>\n",
       "    <tr>\n",
       "      <th>0</th>\n",
       "      <td>1</td>\n",
       "      <td>2024-05-07T00:00:00</td>\n",
       "      <td>instagram</td>\n",
       "      <td>US</td>\n",
       "      <td>Eve Brown</td>\n",
       "    </tr>\n",
       "    <tr>\n",
       "      <th>1</th>\n",
       "      <td>2</td>\n",
       "      <td>2024-10-12T00:00:00</td>\n",
       "      <td>instagram</td>\n",
       "      <td>NL</td>\n",
       "      <td>Frank Moore</td>\n",
       "    </tr>\n",
       "    <tr>\n",
       "      <th>2</th>\n",
       "      <td>3</td>\n",
       "      <td>2024-10-15T00:00:00</td>\n",
       "      <td>tiktok</td>\n",
       "      <td>TR</td>\n",
       "      <td>Ivy Anderson</td>\n",
       "    </tr>\n",
       "    <tr>\n",
       "      <th>3</th>\n",
       "      <td>4</td>\n",
       "      <td>2024-08-28T00:00:00</td>\n",
       "      <td>tiktok</td>\n",
       "      <td>TR</td>\n",
       "      <td>Alice Brown</td>\n",
       "    </tr>\n",
       "    <tr>\n",
       "      <th>4</th>\n",
       "      <td>5</td>\n",
       "      <td>2024-04-03T00:00:00</td>\n",
       "      <td>organic</td>\n",
       "      <td>NL</td>\n",
       "      <td>Bob Moore</td>\n",
       "    </tr>\n",
       "  </tbody>\n",
       "</table>\n",
       "</div>"
      ],
      "text/plain": [
       "   id           created_at attribution_source country          name\n",
       "0   1  2024-05-07T00:00:00          instagram      US     Eve Brown\n",
       "1   2  2024-10-12T00:00:00          instagram      NL   Frank Moore\n",
       "2   3  2024-10-15T00:00:00             tiktok      TR  Ivy Anderson\n",
       "3   4  2024-08-28T00:00:00             tiktok      TR   Alice Brown\n",
       "4   5  2024-04-03T00:00:00            organic      NL     Bob Moore"
      ]
     },
     "metadata": {},
     "output_type": "display_data"
    },
    {
     "name": "stdout",
     "output_type": "stream",
     "text": [
      "\n",
      "User events table preview:\n"
     ]
    },
    {
     "data": {
      "text/html": [
       "<div>\n",
       "<style scoped>\n",
       "    .dataframe tbody tr th:only-of-type {\n",
       "        vertical-align: middle;\n",
       "    }\n",
       "\n",
       "    .dataframe tbody tr th {\n",
       "        vertical-align: top;\n",
       "    }\n",
       "\n",
       "    .dataframe thead th {\n",
       "        text-align: right;\n",
       "    }\n",
       "</style>\n",
       "<table border=\"1\" class=\"dataframe\">\n",
       "  <thead>\n",
       "    <tr style=\"text-align: right;\">\n",
       "      <th></th>\n",
       "      <th>id</th>\n",
       "      <th>created_at</th>\n",
       "      <th>user_id</th>\n",
       "      <th>event_name</th>\n",
       "      <th>amount_usd</th>\n",
       "    </tr>\n",
       "  </thead>\n",
       "  <tbody>\n",
       "    <tr>\n",
       "      <th>0</th>\n",
       "      <td>1</td>\n",
       "      <td>2024-05-07T00:00:00</td>\n",
       "      <td>1</td>\n",
       "      <td>app_install</td>\n",
       "      <td>None</td>\n",
       "    </tr>\n",
       "    <tr>\n",
       "      <th>1</th>\n",
       "      <td>2</td>\n",
       "      <td>2024-05-12T00:00:00</td>\n",
       "      <td>1</td>\n",
       "      <td>trial_started</td>\n",
       "      <td>None</td>\n",
       "    </tr>\n",
       "    <tr>\n",
       "      <th>2</th>\n",
       "      <td>3</td>\n",
       "      <td>2024-05-24T00:00:00</td>\n",
       "      <td>1</td>\n",
       "      <td>trial_cancelled</td>\n",
       "      <td>None</td>\n",
       "    </tr>\n",
       "    <tr>\n",
       "      <th>3</th>\n",
       "      <td>4</td>\n",
       "      <td>2024-10-12T00:00:00</td>\n",
       "      <td>2</td>\n",
       "      <td>app_install</td>\n",
       "      <td>None</td>\n",
       "    </tr>\n",
       "    <tr>\n",
       "      <th>4</th>\n",
       "      <td>5</td>\n",
       "      <td>2024-10-13T00:00:00</td>\n",
       "      <td>2</td>\n",
       "      <td>trial_started</td>\n",
       "      <td>None</td>\n",
       "    </tr>\n",
       "  </tbody>\n",
       "</table>\n",
       "</div>"
      ],
      "text/plain": [
       "   id           created_at  user_id       event_name amount_usd\n",
       "0   1  2024-05-07T00:00:00        1      app_install       None\n",
       "1   2  2024-05-12T00:00:00        1    trial_started       None\n",
       "2   3  2024-05-24T00:00:00        1  trial_cancelled       None\n",
       "3   4  2024-10-12T00:00:00        2      app_install       None\n",
       "4   5  2024-10-13T00:00:00        2    trial_started       None"
      ]
     },
     "metadata": {},
     "output_type": "display_data"
    }
   ],
   "source": [
    "users_df = pd.read_sql_query(\"SELECT * FROM users LIMIT 5;\", conn)\n",
    "print(\"Users table preview:\")\n",
    "display(users_df)\n",
    "\n",
    "# Load events table\n",
    "events_df = pd.read_sql_query(\"SELECT * FROM user_events LIMIT 5;\", conn)\n",
    "print(\"\\nUser events table preview:\")\n",
    "display(events_df)"
   ]
  },
  {
   "cell_type": "code",
   "execution_count": 4,
   "metadata": {},
   "outputs": [],
   "source": [
    "users_df = pd.read_sql_query(\"SELECT * FROM users\", conn)"
   ]
  },
  {
   "cell_type": "code",
   "execution_count": 5,
   "metadata": {},
   "outputs": [],
   "source": [
    "events_df = pd.read_sql_query(\"SELECT * From user_events \", conn)"
   ]
  },
  {
   "cell_type": "code",
   "execution_count": 6,
   "metadata": {},
   "outputs": [
    {
     "data": {
      "text/plain": [
       "<bound method NDFrame.describe of         id           created_at attribution_source country           name\n",
       "0        1  2024-05-07T00:00:00          instagram      US      Eve Brown\n",
       "1        2  2024-10-12T00:00:00          instagram      NL    Frank Moore\n",
       "2        3  2024-10-15T00:00:00             tiktok      TR   Ivy Anderson\n",
       "3        4  2024-08-28T00:00:00             tiktok      TR    Alice Brown\n",
       "4        5  2024-04-03T00:00:00            organic      NL      Bob Moore\n",
       "...    ...                  ...                ...     ...            ...\n",
       "997    998  2025-02-01T00:00:00          instagram      TR      Bob Davis\n",
       "998    999  2024-12-24T00:00:00            organic      NL  Charlie Davis\n",
       "999   1000  2025-02-13T00:00:00            organic      NL  Jack Anderson\n",
       "1000  1001  2025-02-16T00:00:00          instagram      US    Bruce Wayne\n",
       "1001  1002  2025-02-16T00:00:00            organic      TR     Clark Kent\n",
       "\n",
       "[1002 rows x 5 columns]>"
      ]
     },
     "execution_count": 6,
     "metadata": {},
     "output_type": "execute_result"
    }
   ],
   "source": [
    "users_df.describe"
   ]
  },
  {
   "cell_type": "code",
   "execution_count": 7,
   "metadata": {},
   "outputs": [
    {
     "data": {
      "text/plain": [
       "<bound method NDFrame.describe of         id           created_at  user_id            event_name  amount_usd\n",
       "0        1  2024-05-07T00:00:00        1           app_install         NaN\n",
       "1        2  2024-05-12T00:00:00        1         trial_started         NaN\n",
       "2        3  2024-05-24T00:00:00        1       trial_cancelled         NaN\n",
       "3        4  2024-10-12T00:00:00        2           app_install         NaN\n",
       "4        5  2024-10-13T00:00:00        2         trial_started         NaN\n",
       "...    ...                  ...      ...                   ...         ...\n",
       "3481  3482  2025-02-25T00:00:00     1000       trial_cancelled         NaN\n",
       "3482  3483  2025-02-25T00:00:00     1001           app_install         NaN\n",
       "3483  3484  2025-02-25T00:00:00     1001         trial_started         NaN\n",
       "3484  3485  2025-02-25T00:00:00     1001  subscription_started        9.99\n",
       "3485  3486  2025-02-25T00:00:00     1002           app_install         NaN\n",
       "\n",
       "[3486 rows x 5 columns]>"
      ]
     },
     "execution_count": 7,
     "metadata": {},
     "output_type": "execute_result"
    }
   ],
   "source": [
    "events_df.describe"
   ]
  },
  {
   "cell_type": "markdown",
   "metadata": {},
   "source": [
    "Let's start with checking missing values"
   ]
  },
  {
   "cell_type": "code",
   "execution_count": 8,
   "metadata": {},
   "outputs": [
    {
     "data": {
      "text/plain": [
       "id                    False\n",
       "created_at            False\n",
       "attribution_source    False\n",
       "country               False\n",
       "name                  False\n",
       "dtype: bool"
      ]
     },
     "execution_count": 8,
     "metadata": {},
     "output_type": "execute_result"
    }
   ],
   "source": [
    "users_df.isna().any()"
   ]
  },
  {
   "cell_type": "code",
   "execution_count": 9,
   "metadata": {},
   "outputs": [
    {
     "data": {
      "text/plain": [
       "id            False\n",
       "created_at    False\n",
       "user_id       False\n",
       "event_name    False\n",
       "amount_usd     True\n",
       "dtype: bool"
      ]
     },
     "execution_count": 9,
     "metadata": {},
     "output_type": "execute_result"
    }
   ],
   "source": [
    "events_df.isna().any()"
   ]
  },
  {
   "cell_type": "markdown",
   "metadata": {},
   "source": [
    "Let's explore the missing values of `events_df`"
   ]
  },
  {
   "cell_type": "code",
   "execution_count": 10,
   "metadata": {},
   "outputs": [
    {
     "data": {
      "text/plain": [
       "id               0\n",
       "created_at       0\n",
       "user_id          0\n",
       "event_name       0\n",
       "amount_usd    2255\n",
       "dtype: int64"
      ]
     },
     "execution_count": 10,
     "metadata": {},
     "output_type": "execute_result"
    }
   ],
   "source": [
    "events_df.isna().sum()"
   ]
  },
  {
   "cell_type": "markdown",
   "metadata": {},
   "source": [
    "It turns out, 2255 rows of the 3486 are missing in the `amount_usd` column. This also means that amount of transactions coming from users are 1231."
   ]
  },
  {
   "cell_type": "code",
   "execution_count": 11,
   "metadata": {},
   "outputs": [
    {
     "data": {
      "text/plain": [
       "event_name\n",
       "app_install               1002\n",
       "subscription_renewed       750\n",
       "trial_started              682\n",
       "subscription_started       481\n",
       "subscription_cancelled     370\n",
       "trial_cancelled            201\n",
       "Name: count, dtype: int64"
      ]
     },
     "execution_count": 11,
     "metadata": {},
     "output_type": "execute_result"
    }
   ],
   "source": [
    "events_df[\"event_name\"].value_counts()"
   ]
  },
  {
   "cell_type": "markdown",
   "metadata": {},
   "source": [
    "Since `subscription_renewed` (750) + `subscription_cancelled` (481) = 1231, this would mean the users who subscribed to the service all paid for the service, and other users who didn't are the ones that show up as `Nan`. Let's check by checking if there are any users who paid for the service but amount_used is na."
   ]
  },
  {
   "cell_type": "code",
   "execution_count": 12,
   "metadata": {},
   "outputs": [
    {
     "name": "stdout",
     "output_type": "stream",
     "text": [
      "Total subscription events: 1231\n",
      "Subscription events with missing amount: 0\n"
     ]
    }
   ],
   "source": [
    "subscription_events = events_df[events_df[\"event_name\"].isin(\n",
    "    # selecting events that should be paid\n",
    "    ['subscription_started', 'subscription_renewed'])]\n",
    "# selecting events that dont have any transactions\n",
    "\n",
    "missing_amount = subscription_events[subscription_events[\"amount_usd\"].isna()]\n",
    "\n",
    "print(f\"Total subscription events: {len(subscription_events)}\")\n",
    "\n",
    "print(f\"Subscription events with missing amount: {len(missing_amount)}\")"
   ]
  },
  {
   "cell_type": "code",
   "execution_count": 13,
   "metadata": {},
   "outputs": [
    {
     "data": {
      "text/plain": [
       "3"
      ]
     },
     "execution_count": 13,
     "metadata": {},
     "output_type": "execute_result"
    }
   ],
   "source": [
    "events_df[\"amount_usd\"].nunique()"
   ]
  },
  {
   "cell_type": "code",
   "execution_count": 14,
   "metadata": {},
   "outputs": [
    {
     "name": "stdout",
     "output_type": "stream",
     "text": [
      "[ nan 8.99 4.99 9.99]\n"
     ]
    }
   ],
   "source": [
    "unique_values = events_df[\"amount_usd\"].unique()\n",
    "print(unique_values)"
   ]
  },
  {
   "cell_type": "code",
   "execution_count": 15,
   "metadata": {},
   "outputs": [
    {
     "data": {
      "text/plain": [
       "1002"
      ]
     },
     "execution_count": 15,
     "metadata": {},
     "output_type": "execute_result"
    }
   ],
   "source": [
    "users_df[\"id\"].nunique()"
   ]
  },
  {
   "cell_type": "code",
   "execution_count": 16,
   "metadata": {},
   "outputs": [
    {
     "data": {
      "text/plain": [
       "1002"
      ]
     },
     "execution_count": 16,
     "metadata": {},
     "output_type": "execute_result"
    }
   ],
   "source": [
    "events_df[\"user_id\"].nunique()"
   ]
  },
  {
   "cell_type": "markdown",
   "metadata": {},
   "source": [
    "It seems we have 1002 users in total."
   ]
  },
  {
   "cell_type": "markdown",
   "metadata": {},
   "source": [
    "We can understand that there are 3 subscription tiers.I'll join the two tables for easier anaylsis"
   ]
  },
  {
   "cell_type": "code",
   "execution_count": 17,
   "metadata": {},
   "outputs": [
    {
     "name": "stdout",
     "output_type": "stream",
     "text": [
      "   event_id      event_timestamp  user_id       event_name  amount_usd  \\\n",
      "0         1  2024-05-07T00:00:00        1      app_install         NaN   \n",
      "1         2  2024-05-12T00:00:00        1    trial_started         NaN   \n",
      "2         3  2024-05-24T00:00:00        1  trial_cancelled         NaN   \n",
      "3         4  2024-10-12T00:00:00        2      app_install         NaN   \n",
      "4         5  2024-10-13T00:00:00        2    trial_started         NaN   \n",
      "\n",
      "   user_id      user_created_at attribution_source country         name  \n",
      "0        1  2024-05-07T00:00:00          instagram      US    Eve Brown  \n",
      "1        1  2024-05-07T00:00:00          instagram      US    Eve Brown  \n",
      "2        1  2024-05-07T00:00:00          instagram      US    Eve Brown  \n",
      "3        2  2024-10-12T00:00:00          instagram      NL  Frank Moore  \n",
      "4        2  2024-10-12T00:00:00          instagram      NL  Frank Moore  \n"
     ]
    }
   ],
   "source": [
    "combined_df = pd.merge(\n",
    "    events_df,\n",
    "    users_df,\n",
    "    left_on='user_id',\n",
    "    right_on='id',\n",
    "    how='left',\n",
    "    suffixes=('_event', '_user')\n",
    ")\n",
    "\n",
    "# Renaming columns to be more clear after the merge\n",
    "combined_df = combined_df.rename(columns={\n",
    "    'id_event': 'event_id', \n",
    "    'created_at_event': 'event_timestamp',\n",
    "    'id_user': 'user_id',\n",
    "    'created_at_user': 'user_created_at'\n",
    "})\n",
    "\n",
    "# Display the first few rows of the combined dataframe\n",
    "print(combined_df.head())"
   ]
  },
  {
   "cell_type": "markdown",
   "metadata": {},
   "source": [
    "As a result, we have duplicate columns. Let's address this issue by dropping one of the `user_id`"
   ]
  },
  {
   "cell_type": "code",
   "execution_count": 18,
   "metadata": {},
   "outputs": [],
   "source": [
    "combined_df= combined_df.loc[:,~combined_df.columns.duplicated()].copy() # see https://stackoverflow.com/questions/14984119/python-pandas-remove-duplicate-columns "
   ]
  },
  {
   "cell_type": "code",
   "execution_count": 19,
   "metadata": {},
   "outputs": [
    {
     "name": "stdout",
     "output_type": "stream",
     "text": [
      "   event_id      event_timestamp  user_id       event_name  amount_usd  \\\n",
      "0         1  2024-05-07T00:00:00        1      app_install         NaN   \n",
      "1         2  2024-05-12T00:00:00        1    trial_started         NaN   \n",
      "2         3  2024-05-24T00:00:00        1  trial_cancelled         NaN   \n",
      "3         4  2024-10-12T00:00:00        2      app_install         NaN   \n",
      "4         5  2024-10-13T00:00:00        2    trial_started         NaN   \n",
      "\n",
      "       user_created_at attribution_source country         name  \n",
      "0  2024-05-07T00:00:00          instagram      US    Eve Brown  \n",
      "1  2024-05-07T00:00:00          instagram      US    Eve Brown  \n",
      "2  2024-05-07T00:00:00          instagram      US    Eve Brown  \n",
      "3  2024-10-12T00:00:00          instagram      NL  Frank Moore  \n",
      "4  2024-10-12T00:00:00          instagram      NL  Frank Moore  \n"
     ]
    }
   ],
   "source": [
    "print(combined_df.head())"
   ]
  },
  {
   "cell_type": "markdown",
   "metadata": {},
   "source": [
    "I was gonna used `combined_df` for the tasks, but I realized if I did that there'd be little to none SQL in this case which is not what was requested."
   ]
  },
  {
   "cell_type": "markdown",
   "metadata": {},
   "source": [
    "## Tasks"
   ]
  },
  {
   "cell_type": "markdown",
   "metadata": {},
   "source": [
    "### 1. Calculate the total revenue generated from subscriptions for each country."
   ]
  },
  {
   "cell_type": "markdown",
   "metadata": {},
   "source": [
    "For revenue coming from each country, we're gonna start by selecting the country field from `users` and sum the `amound_usd`. We're gonna be needing paid users. That means we're gonna select users who have their `event_name` field either as `subscription_started` or `subscription_renewed`. Also a join operation is needed since we're using two tables "
   ]
  },
  {
   "cell_type": "code",
   "execution_count": 20,
   "metadata": {},
   "outputs": [
    {
     "data": {
      "text/html": [
       "<div>\n",
       "<style scoped>\n",
       "    .dataframe tbody tr th:only-of-type {\n",
       "        vertical-align: middle;\n",
       "    }\n",
       "\n",
       "    .dataframe tbody tr th {\n",
       "        vertical-align: top;\n",
       "    }\n",
       "\n",
       "    .dataframe thead th {\n",
       "        text-align: right;\n",
       "    }\n",
       "</style>\n",
       "<table border=\"1\" class=\"dataframe\">\n",
       "  <thead>\n",
       "    <tr style=\"text-align: right;\">\n",
       "      <th></th>\n",
       "      <th>country</th>\n",
       "      <th>total_revenue</th>\n",
       "    </tr>\n",
       "  </thead>\n",
       "  <tbody>\n",
       "    <tr>\n",
       "      <th>0</th>\n",
       "      <td>TR</td>\n",
       "      <td>2275.44</td>\n",
       "    </tr>\n",
       "    <tr>\n",
       "      <th>1</th>\n",
       "      <td>NL</td>\n",
       "      <td>3335.29</td>\n",
       "    </tr>\n",
       "    <tr>\n",
       "      <th>2</th>\n",
       "      <td>US</td>\n",
       "      <td>4035.96</td>\n",
       "    </tr>\n",
       "  </tbody>\n",
       "</table>\n",
       "</div>"
      ],
      "text/plain": [
       "  country  total_revenue\n",
       "0      TR        2275.44\n",
       "1      NL        3335.29\n",
       "2      US        4035.96"
      ]
     },
     "execution_count": 20,
     "metadata": {},
     "output_type": "execute_result"
    }
   ],
   "source": [
    "query = \"\"\"\n",
    "SELECT \n",
    "    country,\n",
    "    SUM(CASE \n",
    "        WHEN event_name IN (\"subscription_started\", \"subscription_renewed\") \n",
    "        THEN amount_usd \n",
    "    END) as total_revenue\n",
    "FROM users u\n",
    "LEFT JOIN user_events e ON u.id = user_id\n",
    "GROUP BY u.country\n",
    "ORDER BY total_revenue\n",
    "\"\"\"\n",
    "revenue_per_country = pd.read_sql_query(query, conn)\n",
    "revenue_per_country"
   ]
  },
  {
   "cell_type": "markdown",
   "metadata": {},
   "source": [
    "### 2. Calculate the total number of trials given to users who came from Instagram."
   ]
  },
  {
   "cell_type": "markdown",
   "metadata": {},
   "source": [
    "We're gonna need aliases for the tables as column they both have a column named id and it'd be problematic when doing a join operation in the query. We're gonna be needing all entries that fulfill two conditions. Users whose `attribution source` is instagram, and users who started a trial."
   ]
  },
  {
   "cell_type": "code",
   "execution_count": 21,
   "metadata": {},
   "outputs": [
    {
     "data": {
      "text/html": [
       "<div>\n",
       "<style scoped>\n",
       "    .dataframe tbody tr th:only-of-type {\n",
       "        vertical-align: middle;\n",
       "    }\n",
       "\n",
       "    .dataframe tbody tr th {\n",
       "        vertical-align: top;\n",
       "    }\n",
       "\n",
       "    .dataframe thead th {\n",
       "        text-align: right;\n",
       "    }\n",
       "</style>\n",
       "<table border=\"1\" class=\"dataframe\">\n",
       "  <thead>\n",
       "    <tr style=\"text-align: right;\">\n",
       "      <th></th>\n",
       "      <th>total_trials</th>\n",
       "    </tr>\n",
       "  </thead>\n",
       "  <tbody>\n",
       "    <tr>\n",
       "      <th>0</th>\n",
       "      <td>210</td>\n",
       "    </tr>\n",
       "  </tbody>\n",
       "</table>\n",
       "</div>"
      ],
      "text/plain": [
       "   total_trials\n",
       "0           210"
      ]
     },
     "execution_count": 21,
     "metadata": {},
     "output_type": "execute_result"
    }
   ],
   "source": [
    "query = \"\"\"\n",
    "SELECT COUNT(*) as total_trials\n",
    "FROM users u\n",
    "JOIN user_events e ON u.id = e.user_id\n",
    "WHERE u.attribution_source = \"instagram\"\n",
    "AND e.event_name = \"trial_started\"\n",
    "\"\"\"\n",
    "ig_trials = pd.read_sql_query(query, conn)\n",
    "ig_trials"
   ]
  },
  {
   "cell_type": "markdown",
   "metadata": {},
   "source": [
    "Let's be sure about attribution source labelling is correct and there aren't any typos or any other issues"
   ]
  },
  {
   "cell_type": "code",
   "execution_count": 22,
   "metadata": {},
   "outputs": [
    {
     "name": "stdout",
     "output_type": "stream",
     "text": [
      "['instagram' 'tiktok' 'organic']\n"
     ]
    }
   ],
   "source": [
    "print(users_df[\"attribution_source\"].unique())"
   ]
  },
  {
   "cell_type": "markdown",
   "metadata": {},
   "source": [
    "This query could be further enhanced by not including the users who didn't subscribe to the service and ended the trial "
   ]
  },
  {
   "cell_type": "markdown",
   "metadata": {},
   "source": [
    "### 3. Create a new column named `acquisition_channel` by categorizing users based on their `attribution_source`:\n",
    "\n",
    "* 'Paid': users from instagram or tiktok\n",
    "\n",
    "* \"Organic\": users from organic sources"
   ]
  },
  {
   "cell_type": "markdown",
   "metadata": {},
   "source": [
    "First lets start with exploring the possible sources of users"
   ]
  },
  {
   "cell_type": "code",
   "execution_count": 23,
   "metadata": {},
   "outputs": [
    {
     "data": {
      "text/plain": [
       "array(['instagram', 'tiktok', 'organic'], dtype=object)"
      ]
     },
     "execution_count": 23,
     "metadata": {},
     "output_type": "execute_result"
    }
   ],
   "source": [
    "combined_df[\"attribution_source\"].unique()"
   ]
  },
  {
   "cell_type": "markdown",
   "metadata": {},
   "source": [
    "Double checking if there are any missing values"
   ]
  },
  {
   "cell_type": "code",
   "execution_count": 24,
   "metadata": {},
   "outputs": [
    {
     "data": {
      "text/plain": [
       "np.False_"
      ]
     },
     "execution_count": 24,
     "metadata": {},
     "output_type": "execute_result"
    }
   ],
   "source": [
    "combined_df[\"attribution_source\"].isna().any()"
   ]
  },
  {
   "cell_type": "code",
   "execution_count": 25,
   "metadata": {},
   "outputs": [
    {
     "data": {
      "text/plain": [
       "0       instagram\n",
       "1       instagram\n",
       "2       instagram\n",
       "3       instagram\n",
       "4       instagram\n",
       "          ...    \n",
       "3481      organic\n",
       "3482    instagram\n",
       "3483    instagram\n",
       "3484    instagram\n",
       "3485      organic\n",
       "Name: attribution_source, Length: 3486, dtype: object"
      ]
     },
     "execution_count": 25,
     "metadata": {},
     "output_type": "execute_result"
    }
   ],
   "source": [
    "combined_df[\"attribution_source\"]"
   ]
  },
  {
   "cell_type": "markdown",
   "metadata": {},
   "source": [
    "There are no missing values, and we have 3 possible sources. `instagram`, \n",
    "`tiktok`,`organic`\n",
    "\n"
   ]
  },
  {
   "cell_type": "markdown",
   "metadata": {},
   "source": [
    "There are multiple ways to determine if we should categorize an user as a \"paid\" user. First we can check if `event_name IN (\"subscription_started\", \"subscription_renewed\") ` like we did earlier, and second we can check `amount_usd`. Let's do both"
   ]
  },
  {
   "cell_type": "markdown",
   "metadata": {},
   "source": [
    "This query finds users who either started or renewed the subscription"
   ]
  },
  {
   "cell_type": "code",
   "execution_count": null,
   "metadata": {},
   "outputs": [
    {
     "name": "stdout",
     "output_type": "stream",
     "text": [
      "      id attribution_source country            name acquisition_channel\n",
      "0      2          instagram      NL     Frank Moore                Paid\n",
      "1      3             tiktok      TR    Ivy Anderson                Paid\n",
      "2      8             tiktok      TR     Alice Moore                Paid\n",
      "3      9            organic      US  Frank Anderson                Paid\n",
      "4     10            organic      US  David Anderson                Paid\n",
      "..   ...                ...     ...             ...                 ...\n",
      "365  991            organic      TR     Jack Miller                Paid\n",
      "366  992          instagram      US     Grace Jones                Paid\n",
      "367  995          instagram      US     Frank Smith                Paid\n",
      "368  996            organic      TR   Jack Anderson                Paid\n",
      "369  999            organic      NL   Charlie Davis                Paid\n",
      "\n",
      "[370 rows x 5 columns]\n"
     ]
    }
   ],
   "source": [
    "query = \"\"\"\n",
    "SELECT \n",
    "    u.id,\n",
    "    u.attribution_source,\n",
    "    u.country,\n",
    "    u.name,\n",
    "    'Paid' AS acquisition_channel\n",
    "FROM \n",
    "    users u\n",
    "INNER JOIN \n",
    "    user_events e ON u.id = e.user_id\n",
    "WHERE\n",
    "    e.event_name IN ('subscription_started', 'subscription_renewed') \n",
    "GROUP BY\n",
    "    u.id, u.attribution_source, u.country, u.name\n",
    "HAVING\n",
    "    COUNT(DISTINCT e.event_name) = 2\n",
    "\"\"\"\n",
    "\n",
    "\n",
    "acq_ch = pd.read_sql_query(query, conn)\n",
    "print(acq_ch)"
   ]
  },
  {
   "cell_type": "markdown",
   "metadata": {},
   "source": [
    "This query finds ALL users who ever paid any amount (481 users)"
   ]
  },
  {
   "cell_type": "code",
   "execution_count": null,
   "metadata": {},
   "outputs": [
    {
     "name": "stdout",
     "output_type": "stream",
     "text": [
      "       id attribution_source country            name acquisition_channel\n",
      "0       2          instagram      NL     Frank Moore                Paid\n",
      "1       3             tiktok      TR    Ivy Anderson                Paid\n",
      "2       8             tiktok      TR     Alice Moore                Paid\n",
      "3       9            organic      US  Frank Anderson                Paid\n",
      "4      10            organic      US  David Anderson                Paid\n",
      "..    ...                ...     ...             ...                 ...\n",
      "476   992          instagram      US     Grace Jones                Paid\n",
      "477   995          instagram      US     Frank Smith                Paid\n",
      "478   996            organic      TR   Jack Anderson                Paid\n",
      "479   999            organic      NL   Charlie Davis                Paid\n",
      "480  1001          instagram      US     Bruce Wayne                Paid\n",
      "\n",
      "[481 rows x 5 columns]\n"
     ]
    }
   ],
   "source": [
    "query = \"\"\"\n",
    "SELECT \n",
    "    u.id,\n",
    "    u.attribution_source,\n",
    "    u.country,\n",
    "    u.name,\n",
    "    \"Paid\" AS acquisition_channel\n",
    "FROM \n",
    "    users u\n",
    "INNER JOIN \n",
    "    user_events e ON u.id = e.user_id\n",
    "WHERE\n",
    "    e.amount_usd > 0\n",
    "GROUP BY\n",
    "    u.id, u.attribution_source, u.country, u.name\n",
    "\"\"\"\n",
    "\n",
    "acq_ch = pd.read_sql_query(query, conn)\n",
    "print(acq_ch)"
   ]
  },
  {
   "cell_type": "markdown",
   "metadata": {},
   "source": [
    "We see that there are 370 users who started a subscription and renewed, and 481 who made at least one payment. It'd be more accurate to use the first query as they are users who are currently paying"
   ]
  },
  {
   "cell_type": "code",
   "execution_count": null,
   "metadata": {},
   "outputs": [
    {
     "name": "stdout",
     "output_type": "stream",
     "text": [
      "      id attribution_source country            name acquisition_channel\n",
      "0      2          instagram      NL     Frank Moore                Paid\n",
      "1      3             tiktok      TR    Ivy Anderson                Paid\n",
      "2      8             tiktok      TR     Alice Moore                Paid\n",
      "3      9            organic      US  Frank Anderson             Organic\n",
      "4     10            organic      US  David Anderson             Organic\n",
      "..   ...                ...     ...             ...                 ...\n",
      "365  991            organic      TR     Jack Miller             Organic\n",
      "366  992          instagram      US     Grace Jones                Paid\n",
      "367  995          instagram      US     Frank Smith                Paid\n",
      "368  996            organic      TR   Jack Anderson             Organic\n",
      "369  999            organic      NL   Charlie Davis             Organic\n",
      "\n",
      "[370 rows x 5 columns]\n"
     ]
    }
   ],
   "source": [
    "query = \"\"\"\n",
    "SELECT\n",
    "    u.id,\n",
    "    u.attribution_source,\n",
    "    u.country,\n",
    "    u.name,\n",
    "    CASE\n",
    "        WHEN u.attribution_source IN ('instagram', 'tiktok') THEN 'Paid'\n",
    "        WHEN u.attribution_source = 'organic' THEN 'Organic'\n",
    "    END AS acquisition_channel\n",
    "FROM\n",
    "    users u\n",
    "INNER JOIN\n",
    "    user_events e ON u.id = e.user_id\n",
    "WHERE\n",
    "    e.event_name IN (\"subscription_started\", \"subscription_renewed\")\n",
    "GROUP BY\n",
    "    u.id, u.attribution_source, u.country, u.name\n",
    "HAVING\n",
    "    COUNT(DISTINCT e.event_name) = 2\n",
    "\"\"\"\n",
    "\n",
    "acq_ch = pd.read_sql_query(query, conn)\n",
    "print(acq_ch)"
   ]
  },
  {
   "cell_type": "markdown",
   "metadata": {},
   "source": [
    "### 4. Analyze the trial-to-subscription conversion rate\n",
    "* Calculate the overall conversion rate\n",
    "* Break down the conversion rate by attribution_source"
   ]
  },
  {
   "cell_type": "markdown",
   "metadata": {},
   "source": [
    "Let's start by getting the users who started a trial "
   ]
  },
  {
   "cell_type": "code",
   "execution_count": 29,
   "metadata": {},
   "outputs": [],
   "source": [
    "trial_users_query = \"\"\"\n",
    "SELECT \n",
    "    u.attribution_source,\n",
    "    COUNT(DISTINCT u.id) AS trial_users\n",
    "FROM \n",
    "    users u\n",
    "INNER JOIN \n",
    "    user_events e ON u.id = e.user_id\n",
    "WHERE \n",
    "    e.event_name = \"trial_started\"\n",
    "GROUP BY \n",
    "    u.attribution_source\n",
    "\"\"\""
   ]
  },
  {
   "cell_type": "markdown",
   "metadata": {},
   "source": [
    "Then, let's find the \"paid\" users using the same query from pervious task"
   ]
  },
  {
   "cell_type": "code",
   "execution_count": 30,
   "metadata": {},
   "outputs": [],
   "source": [
    "paid_users_query = \"\"\"\n",
    "SELECT \n",
    "    u.attribution_source,\n",
    "    COUNT(DISTINCT u.id) AS paid_users\n",
    "FROM \n",
    "    users u\n",
    "INNER JOIN \n",
    "    user_events e ON u.id = e.user_id\n",
    "WHERE\n",
    "    e.event_name IN (\"subscription_started\", \"subscription_renewed\") \n",
    "GROUP BY\n",
    "    u.attribution_source\n",
    "HAVING\n",
    "    COUNT(DISTINCT e.event_name) = 2\n",
    "\"\"\""
   ]
  },
  {
   "cell_type": "markdown",
   "metadata": {},
   "source": [
    "This query would return 370 paid users "
   ]
  },
  {
   "cell_type": "markdown",
   "metadata": {},
   "source": [
    "Let's merge them to a dataframe for finding the rates using previous queries. I chose to convert them into dataframes since for this situation, the resulting dataframe would fit any machine and isnt't big enough to cause any issues. For a production environment it could be more optimal to not do that."
   ]
  },
  {
   "cell_type": "code",
   "execution_count": 31,
   "metadata": {},
   "outputs": [],
   "source": [
    "trial_users_df = pd.read_sql_query(trial_users_query, conn)\n",
    "paid_users_df = pd.read_sql_query(paid_users_query, conn)\n",
    "\n",
    "conversion_rates = pd.merge(\n",
    "    trial_users_df, \n",
    "    paid_users_df, \n",
    "    on=\"attribution_source\", \n",
    "    how=\"left\"\n",
    ")"
   ]
  },
  {
   "cell_type": "code",
   "execution_count": 32,
   "metadata": {},
   "outputs": [],
   "source": [
    "total_trials = conversion_rates[\"trial_users\"].sum()\n",
    "total_conversions = conversion_rates[\"paid_users\"].sum()\n",
    "overall_conversion_rate = (total_conversions / total_trials * 100).round(2)"
   ]
  },
  {
   "cell_type": "code",
   "execution_count": 33,
   "metadata": {},
   "outputs": [
    {
     "name": "stdout",
     "output_type": "stream",
     "text": [
      "Trial-to-Subscription Conversion Rate Analysis\n",
      "==================================================\n",
      "Overall Conversion Rate: 70.53%\n",
      "\n",
      "Conversion Rate by Attribution Source:\n",
      "  attribution_source  trial_users  paid_users\n",
      "0          instagram          210         149\n",
      "1            organic          236         169\n",
      "2             tiktok          236         163\n"
     ]
    }
   ],
   "source": [
    "print(\"Trial-to-Subscription Conversion Rate Analysis\")\n",
    "print(\"=\" * 50)\n",
    "print(f\"Overall Conversion Rate: {overall_conversion_rate}%\")\n",
    "print(\"\\nConversion Rate by Attribution Source:\")\n",
    "print(conversion_rates)"
   ]
  },
  {
   "cell_type": "markdown",
   "metadata": {},
   "source": [
    "Out of 682 users who started a trial, 70.53% of them became paid users resulting in a 70.53% overall conversion rate"
   ]
  },
  {
   "cell_type": "markdown",
   "metadata": {},
   "source": [
    "### 5. Calculate the median subscription duration (in months) for each country"
   ]
  },
  {
   "cell_type": "code",
   "execution_count": null,
   "metadata": {},
   "outputs": [
    {
     "name": "stdout",
     "output_type": "stream",
     "text": [
      "Median Subscription Duration by Country (in days):\n",
      "  country  duration_days\n",
      "0      NL          221.0\n",
      "2      US          213.0\n",
      "1      TR          198.0\n"
     ]
    }
   ],
   "source": [
    "subscription_duration_query = \"\"\"\n",
    "SELECT\n",
    "    u.country,\n",
    "    u.id AS user_id,\n",
    "    MIN(CASE WHEN e.event_name = \"subscription_started\" THEN e.created_at END) AS start_date,\n",
    "    MAX(CASE WHEN e.event_name = \"subscription_cancelled\" THEN e.created_at ELSE CURRENT_DATE END) AS end_date\n",
    "FROM\n",
    "    users u\n",
    "INNER JOIN\n",
    "    user_events e ON u.id = e.user_id\n",
    "WHERE\n",
    "    e.event_name IN (\"subscription_started\", \"subscription_cancelled\")\n",
    "GROUP BY\n",
    "    u.country, u.id\n",
    "HAVING\n",
    "    start_date IS NOT NULL\n",
    "\"\"\"\n",
    "\n",
    "subscription_data = pd.read_sql_query(subscription_duration_query, conn)\n",
    "\n",
    "\n",
    "subscription_data[\"start_date\"] = pd.to_datetime(subscription_data[\"start_date\"], format=\"ISO8601\")\n",
    "subscription_data[\"end_date\"] = pd.to_datetime(subscription_data[\"end_date\"], format=\"ISO8601\")\n",
    "\n",
    "\n",
    "subscription_data[\"duration_days\"] = (subscription_data[\"end_date\"] - subscription_data[\"start_date\"]).dt.days\n",
    "\n",
    "\n",
    "median_duration_by_country = subscription_data.groupby(\"country\")[\"duration_days\"].median().reset_index()\n",
    "median_duration_by_country = median_duration_by_country.sort_values(by=\"duration_days\", ascending=False)\n",
    "\n",
    "print(\"Median Subscription Duration by Country (in days):\")\n",
    "print(median_duration_by_country)"
   ]
  },
  {
   "cell_type": "markdown",
   "metadata": {},
   "source": [
    "### 6. Calculate the Average Lifetime Value (LTV) by country"
   ]
  },
  {
   "cell_type": "code",
   "execution_count": null,
   "metadata": {},
   "outputs": [],
   "source": [
    "ltv_query = \"\"\"\n",
    "SELECT \n",
    "    u.country,\n",
    "    u.id AS user_id,\n",
    "    SUM(e.amount_usd) AS total_revenue\n",
    "FROM \n",
    "    users u\n",
    "JOIN \n",
    "    user_events e ON u.id = e.user_id\n",
    "WHERE \n",
    "    e.amount_usd > 0\n",
    "GROUP BY \n",
    "    u.country, u.id\n",
    "\"\"\"\n",
    "\n",
    "user_revenue_df = pd.read_sql_query(ltv_query, conn)\n",
    "\n",
    "\n",
    "ltv_by_country = user_revenue_df.groupby(\"country\")[\"total_revenue\"].mean().reset_index()\n",
    "ltv_by_country.rename(columns={\"total_revenue\": \"average_ltv\"}, inplace=True)\n",
    "ltv_by_country[\"average_ltv\"] = ltv_by_country[\"average_ltv\"].round(2)"
   ]
  },
  {
   "cell_type": "code",
   "execution_count": 44,
   "metadata": {},
   "outputs": [],
   "source": [
    "overall_ltv = user_revenue_df[\"total_revenue\"].mean()\n",
    "ltv_by_country = ltv_by_country.sort_values(\"average_ltv\", ascending=False)"
   ]
  },
  {
   "cell_type": "code",
   "execution_count": 45,
   "metadata": {},
   "outputs": [
    {
     "name": "stdout",
     "output_type": "stream",
     "text": [
      "Average Lifetime Value (LTV) Analysis\n",
      "==================================================\n",
      "Overall Average LTV: $20.055488565488567\n",
      "\n",
      "Average LTV by Country:\n",
      "  country  average_ltv\n",
      "2      US        25.07\n",
      "0      NL        22.38\n",
      "1      TR        13.31\n"
     ]
    }
   ],
   "source": [
    "print(\"Average Lifetime Value (LTV) Analysis\")\n",
    "print(\"=\" * 50)\n",
    "print(f\"Overall Average LTV: ${overall_ltv}\")\n",
    "print(\"\\nAverage LTV by Country:\")\n",
    "print(ltv_by_country)"
   ]
  }
 ],
 "metadata": {
  "kernelspec": {
   "display_name": ".venv",
   "language": "python",
   "name": "python3"
  },
  "language_info": {
   "codemirror_mode": {
    "name": "ipython",
    "version": 3
   },
   "file_extension": ".py",
   "mimetype": "text/x-python",
   "name": "python",
   "nbconvert_exporter": "python",
   "pygments_lexer": "ipython3",
   "version": "3.12.8"
  }
 },
 "nbformat": 4,
 "nbformat_minor": 2
}
